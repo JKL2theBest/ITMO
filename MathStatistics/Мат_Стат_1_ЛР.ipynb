{
  "nbformat": 4,
  "nbformat_minor": 0,
  "metadata": {
    "colab": {
      "provenance": []
    },
    "kernelspec": {
      "name": "python3",
      "display_name": "Python 3"
    },
    "language_info": {
      "name": "python"
    }
  },
  "cells": [
    {
      "cell_type": "markdown",
      "source": [
        "#**Первая лабораторная работа**#\n",
        "\n",
        "Вариант 22\n",
        "\n",
        "Выполнил:\n",
        "\n",
        "Суханкулиев Мухаммет,\n",
        "студент группы N3246\n",
        "\n",
        "поток Мат Стат 28.3"
      ],
      "metadata": {
        "id": "zmtRKzraXK0y"
      }
    },
    {
      "cell_type": "markdown",
      "source": [
        "**Цель и постановка задач**\n",
        "\n",
        "Дана выборка объема $n = 20$,\n",
        "по ней:\n",
        "\n",
        "1. приблизить мат ожидание, дисперсию\n",
        "\n",
        "2. построить вариационный ряд и эмпирическую функцию распределения - график\n",
        "\n",
        "3. найти медиану\n",
        "\n",
        "Сделать выводы."
      ],
      "metadata": {
        "id": "zc99Ta6dhjae"
      }
    },
    {
      "cell_type": "code",
      "source": [
        "import numpy as np\n",
        "import matplotlib.pyplot as plt"
      ],
      "metadata": {
        "id": "-PyQpBhrXD8q"
      },
      "execution_count": 126,
      "outputs": []
    },
    {
      "cell_type": "markdown",
      "source": [
        "Исходные данные из файла\n",
        "https://docs.google.com/document/d/1puHSE0i0u0k3s2WAC7Yk4t3q1bfAZ5EooT5mu3CUT9s\n",
        "\n",
        "(Вариант 22)"
      ],
      "metadata": {
        "id": "tzg5HHfbXFIN"
      }
    },
    {
      "cell_type": "code",
      "source": [
        "data = np.array([2.34, 2.01, 2.06, 1.86, 1.13, 2.88, 2.33, 1.86, 2.06, 1.29,\n",
        "                 2.45, 2.9, 1.49, 1.94, 3.11, 1.79, 2.51, -0.1, 1.85, 1.49])"
      ],
      "metadata": {
        "id": "GSS633ZRXFe1"
      },
      "execution_count": 127,
      "outputs": []
    },
    {
      "cell_type": "markdown",
      "source": [
        "**1. Приблизить мат ожидание, дисперсию**\n",
        "\n",
        "Приближенное математическое ожидание (выборочное среднее) $\\bar{X}$:\n",
        "$$\\bar{X} = \\frac{1}{n} \\sum_{i}^{n} x_i$$\n",
        "\n",
        "Приближенная дисперсия (не смещенная) $S_o$:\n",
        "$$S_o = \\frac{1}{n-1} \\sum_{i}^{n} (x_i - \\bar{X})^2$$\n",
        "или\n",
        "$$S_o = \\frac{1}{n-1} \\sum_{i}^{n} (x_i^2 - \\bar{X}^2)$$\n",
        "\n",
        "Так же сравним значения, вычисленные вручную со значениями, полученными с помощью библиотеки `numpy`"
      ],
      "metadata": {
        "id": "MqG2rRMgXFuU"
      }
    },
    {
      "cell_type": "code",
      "source": [
        "n = len(data)  # Объем выборки - количество значений случайных величин\n",
        "\n",
        "# 1. Выборочное среднее (приближенное математическое ожидание)\n",
        "E_x = sum(data) / n\n",
        "\n",
        "print(f\"Приближенное математическое ожидание (вручную):  {E_x:.4f}\")\n",
        "print(f\"Приближенное математическое ожидание   (numpy):  {np.mean(data):.4f}\")\n",
        "\n",
        "# Приближенная дисперсия (не смещенная)\n",
        "S_o = sum((x - E_x) ** 2 for x in data) / (n - 1)\n",
        "\n",
        "print(f\"Приближенная дисперсия               (вручную):  {S_o:.4f}\")\n",
        "\n",
        "S_o2 = sum((x ** 2 - E_x ** 2) for x in data) / (n - 1)\n",
        "\n",
        "print(f\"Приближенная дисперсия             (вручную_2):  {S_o2:.4f}\")\n",
        "print(f\"Выборочная дисперсия                   (numpy):  {np.var(data, ddof=1):.4f}\")"
      ],
      "metadata": {
        "colab": {
          "base_uri": "https://localhost:8080/"
        },
        "id": "emlPl96oXF1J",
        "outputId": "c9d67bec-4a3c-4525-a633-c04c5b383f8e"
      },
      "execution_count": 128,
      "outputs": [
        {
          "output_type": "stream",
          "name": "stdout",
          "text": [
            "Приближенное математическое ожидание (вручную):  1.9625\n",
            "Приближенное математическое ожидание   (numpy):  1.9625\n",
            "Приближенная дисперсия               (вручную):  0.5149\n",
            "Приближенная дисперсия             (вручную_2):  0.5149\n",
            "Выборочная дисперсия                   (numpy):  0.5149\n"
          ]
        }
      ]
    },
    {
      "cell_type": "markdown",
      "source": [
        "**2. Построить вариационный ряд и эмпирическую функцию распределения - график**\n",
        "\n",
        "Вариационный ряд — это значения случайных величин, упорядоченных по возрастанию."
      ],
      "metadata": {
        "id": "RJwPy1LqXF6e"
      }
    },
    {
      "cell_type": "code",
      "source": [
        "# 2. Вариационный ряд\n",
        "sorted_data = np.sort(data)\n",
        "\n",
        "print(\"Вариационный ряд:\")\n",
        "print(sorted_data)"
      ],
      "metadata": {
        "colab": {
          "base_uri": "https://localhost:8080/"
        },
        "id": "ikpn4fnTbQzq",
        "outputId": "3cb96156-ef0d-4ac6-b395-1df54c4b1b1c"
      },
      "execution_count": 129,
      "outputs": [
        {
          "output_type": "stream",
          "name": "stdout",
          "text": [
            "Вариационный ряд:\n",
            "[-0.1   1.13  1.29  1.49  1.49  1.79  1.85  1.86  1.86  1.94  2.01  2.06\n",
            "  2.06  2.33  2.34  2.45  2.51  2.88  2.9   3.11]\n"
          ]
        }
      ]
    },
    {
      "cell_type": "code",
      "source": [
        "# Эмпирическая функция распределения\n",
        "y = np.arange(1, n + 1) / n # Координаты для ЭФР\n",
        "\n",
        "plt.figure(figsize=(8, 5))\n",
        "plt.step(sorted_data, y, where=\"post\", label=\"Эмпирическая функция\", color=\"blue\")\n",
        "\n",
        "plt.xlabel(\"x\")\n",
        "plt.ylabel(\"F(x)\")\n",
        "plt.title(\"Эмпирическая функция распределения\")\n",
        "plt.legend()\n",
        "plt.grid()\n",
        "plt.show()"
      ],
      "metadata": {
        "colab": {
          "base_uri": "https://localhost:8080/",
          "height": 487
        },
        "id": "JIishZzzXGAl",
        "outputId": "3e714007-9d21-4393-aabb-d77271f8774d"
      },
      "execution_count": 130,
      "outputs": [
        {
          "output_type": "display_data",
          "data": {
            "text/plain": [
              "<Figure size 800x500 with 1 Axes>"
            ],
            "image/png": "[encoded data removed]"
          },
          "metadata": {}
        }
      ]
    },
    {
      "cell_type": "markdown",
      "source": [
        "**3. Найти медиану**\n",
        "\n",
        "Если ряд состоит из нечётного количества чисел, то медиана — это число, которое находится ровно посередине в упорядоченном ряде.\n",
        "\n",
        "Если ряд состоит из чётного количества чисел, то медиана — это среднее арифметическое двух чисел, которые находятся посередине в упорядоченном ряде.\n",
        "\n",
        "Так же сравним с `numpy`"
      ],
      "metadata": {
        "id": "HifZec8XXGE7"
      }
    },
    {
      "cell_type": "code",
      "source": [
        "# 3. Вычисляем медиану вручную\n",
        "if n % 2 == 1:\n",
        "    median_x = sorted_data[n // 2]\n",
        "else:\n",
        "    median_x = (sorted_data[n // 2 - 1] + sorted_data[n // 2]) / 2\n",
        "\n",
        "print(f\"Медиана (вручную):  {median_x:.4f}\")\n",
        "\n",
        "# Сравнение с numpy\n",
        "print(f\"Медиана   (numpy):  {np.median(data):.4f}\")"
      ],
      "metadata": {
        "colab": {
          "base_uri": "https://localhost:8080/"
        },
        "id": "_YQC2sbiXGJo",
        "outputId": "cf7da7ca-d24d-4d9c-a373-c62f90ca4fed"
      },
      "execution_count": 131,
      "outputs": [
        {
          "output_type": "stream",
          "name": "stdout",
          "text": [
            "Медиана (вручную):  1.9750\n",
            "Медиана   (numpy):  1.9750\n"
          ]
        }
      ]
    },
    {
      "cell_type": "markdown",
      "source": [
        "Построим гистограмму с наложенной оценкой плотности распределения (с помощью `seaborn.histplot`):"
      ],
      "metadata": {
        "id": "l-FcPzuHXGXa"
      }
    },
    {
      "cell_type": "code",
      "source": [
        "# Построение гистограммы с KDE\n",
        "from seaborn import histplot\n",
        "plt.figure(figsize=(8, 6))\n",
        "\n",
        "histplot(data, bins=10, kde=True, stat=\"density\", color='blue', alpha=0.5)\n",
        "\n",
        "plt.title(\"Гистограмма выборки с KDE\")\n",
        "plt.xlabel(\"x\")\n",
        "plt.ylabel(\"f(x)\")\n",
        "plt.grid(True)\n",
        "plt.show()"
      ],
      "metadata": {
        "colab": {
          "base_uri": "https://localhost:8080/",
          "height": 564
        },
        "id": "GRDeKkaafZWx",
        "outputId": "21d9bb18-016d-4996-8d2f-d2c6dccfa52f"
      },
      "execution_count": 132,
      "outputs": [
        {
          "output_type": "display_data",
          "data": {
            "text/plain": [
              "<Figure size 800x600 with 1 Axes>"
            ],
            "image/png": "[encoded data removed]"
          },
          "metadata": {}
        }
      ]
    },
    {
      "cell_type": "markdown",
      "source": [
        "**Ответы**\n",
        "\n",
        "Для выборки объемом $n=20$\n",
        "\n",
        "`[2.34, 2.01, 2.06, 1.86, 1.13, 2.88, 2.33, 1.86, 2.06, 1.29, 2.45, 2.9, 1.49, 1.94, 3.11, 1.79, 2.51, -0.1, 1.85, 1.49]`\n",
        "\n",
        "1. Приближенное математическое ожидание:\n",
        "$$\\bar{X} \\approx 1.9625$$\n",
        "Приближенная дисперсия:\n",
        "$$S_o \\approx 0.5149$$\n",
        "\n",
        "2. Вариационный ряд:\n",
        "$$[-0.1, 1.13, 1.29, 1.49, 1.49, 1.79, 1.85, 1.86, 1.86, 1.94, 2.01, 2.06, 2.06, 2.33, 2.34, 2.45, 2.51, 2.88, 2.9, 3.11]$$\n",
        "Эмпирическая функция распределения постоена выше.\n",
        "\n",
        "3. $$Медиана = 1.975$$"
      ],
      "metadata": {
        "id": "0omBOH3lzDHX"
      }
    },
    {
      "cell_type": "markdown",
      "source": [
        "#**Выводы**#\n",
        "\n",
        "Полученное значение для **приближенного математического ожидания** демонстрирует, как **выборочное среднее** приближает истинное математическое ожидание.\n",
        "\n",
        "Полученное значение **приближенной дисперсии** говорит о том, насколько сильно отклоняются элементы выборки от выборочного среднего. **Несмещенная дисперсия** является более точной оценкой истинной дисперсии для популяции, поскольку исправляет возможное недооценивание дисперсии, связанное с использованием выборочного среднего.\n",
        "\n",
        "Приближенные значения математического ожидания и дисперсии для данной выборки совпадают с вычислениями в `numpy`.\n",
        "\n",
        "**Эмпирическая функция** позволяет наглядно увидеть распределение наблюдаемых значений и оценить, как они могут быть сгруппированы в более крупной популяции, грубо говоря, она визуализирует накопление вероятности по мере увеличения значений выборки.\n",
        "\n",
        "**Медиана** выборки является важной характеристикой центральной тенденции, и её вычисления вручную подтверждаются результатами из библиотеки `numpy`.\n",
        "\n",
        "Построенная **гистограмма с наложенной кривой оценки плотности распределения (KDE)** позволяет визуализировать распределение данных и оценить его форму.\n",
        "\n",
        "#**Заключение**#\n",
        "\n",
        "В ходе выполнения лабораторной работы были получены основные статистические характеристики выборки: математическое ожидание, дисперсия, медиана и вариационный ряд. Также была построена эмпирическая функция распределения и визуализированы данные с помощью гистограммы и кривой плотности."
      ],
      "metadata": {
        "id": "E0yJfhzatGun"
      }
    }
  ]
}