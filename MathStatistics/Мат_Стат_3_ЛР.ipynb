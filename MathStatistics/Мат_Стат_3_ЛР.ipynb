{
  "nbformat": 4,
  "nbformat_minor": 0,
  "metadata": {
    "colab": {
      "provenance": []
    },
    "kernelspec": {
      "name": "python3",
      "display_name": "Python 3"
    },
    "language_info": {
      "name": "python"
    }
  },
  "cells": [
    {
      "cell_type": "markdown",
      "source": [
        "#**Третья лабораторная работа**#\n",
        "\n",
        "Вариант 22\n",
        "\n",
        "Выполнил:\n",
        "\n",
        "Суханкулиев Мухаммет,\n",
        "студент группы N3246\n",
        "\n",
        "поток Мат Стат 28.3"
      ],
      "metadata": {
        "id": "zmtRKzraXK0y"
      }
    },
    {
      "cell_type": "markdown",
      "source": [
        "**Задача**\n",
        "\n",
        "С помощью критерия Пирсона (хи-квадрат), проверить гипотезу, что случайная выборка, имеет экспоненциальное распределение с параметром $\\lambda = 2.45$. Взять равномерную сетку из $10$ интервалов и уровень значимости $\\varepsilon = 0.05$."
      ],
      "metadata": {
        "id": "zc99Ta6dhjae"
      }
    },
    {
      "cell_type": "code",
      "source": [
        "import numpy as np\n",
        "import matplotlib.pyplot as plt\n",
        "import scipy.stats as st\n",
        "from google.colab import drive\n",
        "import requests\n",
        "import json"
      ],
      "metadata": {
        "id": "-PyQpBhrXD8q"
      },
      "execution_count": 155,
      "outputs": []
    },
    {
      "cell_type": "markdown",
      "source": [
        "Исходные данные из файла\n",
        "https://drive.google.com/file/d/115T4xGoaKULljZuSLcgLVAIMo-ke-Bw_/\n",
        "\n",
        "(Вариант 22)"
      ],
      "metadata": {
        "id": "tzg5HHfbXFIN"
      }
    },
    {
      "cell_type": "code",
      "source": [
        "# Монтируем диск и загружаем данные\n",
        "drive.mount('/content/drive')\n",
        "file_id = '115T4xGoaKULljZuSLcgLVAIMo-ke-Bw_'\n",
        "url = f'https://drive.google.com/uc?id={file_id}'\n",
        "response = requests.get(url)\n",
        "data = json.loads(response.content)"
      ],
      "metadata": {
        "colab": {
          "base_uri": "https://localhost:8080/"
        },
        "id": "6RJDzvNsk4FK",
        "outputId": "60875c67-f193-486e-de67-277ca5aabe8d"
      },
      "execution_count": 156,
      "outputs": [
        {
          "output_type": "stream",
          "name": "stdout",
          "text": [
            "Drive already mounted at /content/drive; to attempt to forcibly remount, call drive.mount(\"/content/drive\", force_remount=True).\n"
          ]
        }
      ]
    },
    {
      "cell_type": "code",
      "source": [
        "x = np.array(data[\"x\"])\n",
        "lambda_ = float(data[\"lambda\"])\n",
        "epsilon = 0.05\n",
        "\n",
        "print(f\"Выборка:\\n{x}\")\n",
        "print(f\"Параметр λ = {lambda_}\")\n",
        "print(f\"Уровень значимости ε = {epsilon}\")\n",
        "\n",
        "# Параметры\n",
        "n = len(x)\n",
        "k = 10\n",
        "print(f\"Число интервалов = {k}\")\n",
        "print(f\"Объём выборки n = {n}\")"
      ],
      "metadata": {
        "colab": {
          "base_uri": "https://localhost:8080/"
        },
        "id": "mpGyZ-RFer8l",
        "outputId": "dae01e30-1a1d-4f44-e24e-415b6d051a19"
      },
      "execution_count": 157,
      "outputs": [
        {
          "output_type": "stream",
          "name": "stdout",
          "text": [
            "Выборка:\n",
            "[0.38 0.6  0.28 0.49 0.09 0.68 0.36 0.62 0.32 0.37 0.04 0.01 0.24 0.01\n",
            " 0.19 0.17 0.03 0.54 0.11 0.   0.02 0.74 0.06 1.42 0.22 0.24 0.04 0.52\n",
            " 0.02 0.04 0.39 0.79 1.01 0.13 0.58 0.04 0.04 0.63 0.05 0.15 0.49 0.79\n",
            " 0.27 0.64 0.06 0.98 1.65 0.02 0.01 0.02 0.08 0.76 1.02 0.6  0.33 0.04\n",
            " 0.13 1.29 1.79 1.62 0.37 0.03 1.66 0.4  0.23 0.01 0.13 0.05 0.2  0.28\n",
            " 0.35 0.69 0.18 0.33 0.57 1.77 0.46 0.82 0.49 0.18 0.27 0.14 0.53 0.06\n",
            " 1.18 1.34 0.69 0.18 0.83 0.38 0.36 0.12 0.2  0.07 0.05 0.69 0.47 0.19\n",
            " 0.19 1.51]\n",
            "Параметр λ = 2.45\n",
            "Уровень значимости ε = 0.05\n",
            "Число интервалов = 10\n",
            "Объём выборки n = 100\n"
          ]
        }
      ]
    },
    {
      "cell_type": "markdown",
      "source": [
        "Гипотеза $H_1$: $X \\sim Exp(\\lambda=2.45) -$ выборка имеет экспонинцеальное распределение с параметром $\\lambda=2.45$.\n",
        "\n",
        "Альтернативная гипотеза: $H_2$: $X \\not\\sim Exp(\\lambda=2.45)  -$ выборка НЕ имеет экспонинцеальное распределение с параметром $\\lambda=2.45$.\n",
        "\n",
        "Удорядочим исходную выборку в вариационный ряд. Получим два значения $a$ и $b$, которые будут использоваться для построения интервалов."
      ],
      "metadata": {
        "id": "hOKgaCyClFmM"
      }
    },
    {
      "cell_type": "code",
      "source": [
        "x_sorted = np.sort(x)\n",
        "a = x_sorted[0]\n",
        "b = x_sorted[-1]\n",
        "print(f\"Минимум a = {a}\")\n",
        "print(f\"Максимум b = {b}\")"
      ],
      "metadata": {
        "colab": {
          "base_uri": "https://localhost:8080/"
        },
        "id": "LBaAmUTHqU9C",
        "outputId": "6b366420-610e-473f-bdc8-4c3176cb7369"
      },
      "execution_count": 158,
      "outputs": [
        {
          "output_type": "stream",
          "name": "stdout",
          "text": [
            "Минимум a = 0.0\n",
            "Максимум b = 1.79\n"
          ]
        }
      ]
    },
    {
      "cell_type": "markdown",
      "source": [
        "Делаем разбиение на $k=10$ равномерных интервалов.\n",
        "Границы интервалов:\n",
        "$$i_k=i+(k-1)\\cdot 𝛥, $$ где $𝛥=\\frac{b-a}{10}$\n",
        "\n",
        "Для каждого интервала $[x_k, x_{k+1})$, подсчитываем количество наблюдений $n_k$, попавших в него."
      ],
      "metadata": {
        "id": "apkzsJktqyFU"
      }
    },
    {
      "cell_type": "code",
      "source": [
        "intervals = np.linspace(a, b, k + 1)\n",
        "print(f\"Границы интервалов:\\n{intervals}\")\n",
        "\n",
        "n_k = np.histogram(x, bins=intervals)[0]\n",
        "print(f\"Частоты по интервалам:\\n{n_k}\")"
      ],
      "metadata": {
        "colab": {
          "base_uri": "https://localhost:8080/"
        },
        "id": "mXdCmS17wpQ_",
        "outputId": "99904441-a835-42cd-f303-385e3140e98f"
      },
      "execution_count": 159,
      "outputs": [
        {
          "output_type": "stream",
          "name": "stdout",
          "text": [
            "Границы интервалов:\n",
            "[0.    0.179 0.358 0.537 0.716 0.895 1.074 1.253 1.432 1.611 1.79 ]\n",
            "Частоты по интервалам:\n",
            "[34 20 15 12  6  3  1  3  1  5]\n"
          ]
        }
      ]
    },
    {
      "cell_type": "markdown",
      "source": [
        "Пусть $F(x)-$ функция распределения для экспонинцеального распределения с параметром $\\lambda=2.45$. Тогда теоретическая вероятность попадания случайной величины в $k$-й интервал (между $x_k$ и $x_{k+1}$) вычисляется через:\n",
        "$$p_k=\\int_{x_{k}}^{x_{k+1}}{\\lambda e^{-\\lambda x}dx}=F(x_{k+1})-F(x_k)=e^{-\\lambda x_k}-e^{-\\lambda x_{k+1}}$$\n",
        "где $F(x)-$ это функция распределения для экспонинцеального распределения:\n",
        "$$F(x)=1-e^{-\\lambda x}$$\n",
        "Таким образом найдем теоретическую вероятность $p_k$ для каждого интервала $[x_k, x_{k+1}]$."
      ],
      "metadata": {
        "id": "mlVZpPhzri73"
      }
    },
    {
      "cell_type": "code",
      "source": [
        "p_k = [np.exp(-lambda_ * bins[i]) - np.exp(-lambda_ * bins[i + 1]) for i in range(k)]\n",
        "\n",
        "p_k = np.diff(st.expon.cdf(intervals, scale=1/lambda_))\n",
        "print(f\"Теоретические вероятности p_k:\\n{p_k}\")"
      ],
      "metadata": {
        "id": "GSS633ZRXFe1",
        "colab": {
          "base_uri": "https://localhost:8080/"
        },
        "outputId": "07f9fdaa-ed47-4676-a2bb-5ffaa5083a4a"
      },
      "execution_count": 160,
      "outputs": [
        {
          "output_type": "stream",
          "name": "stdout",
          "text": [
            "Теоретические вероятности p_k:\n",
            "[0.35502905 0.22898342 0.14768766 0.09525425 0.06143622 0.03962458\n",
            " 0.0255567  0.01648333 0.01063127 0.00685686]\n"
          ]
        }
      ]
    },
    {
      "cell_type": "code",
      "source": [
        "print(f\"Сумма вероятностей: {np.sum(p_k):.6f}\")\n",
        "p_k[-1] = 1 - np.sum(p_k[:-1])\n",
        "print(f\"Сумма вероятностей: {np.sum(p_k)}\")"
      ],
      "metadata": {
        "colab": {
          "base_uri": "https://localhost:8080/"
        },
        "id": "_7Gr9SWo6YoV",
        "outputId": "326e7c69-158f-4b0a-b023-f9834a88e152"
      },
      "execution_count": 161,
      "outputs": [
        {
          "output_type": "stream",
          "name": "stdout",
          "text": [
            "Сумма вероятностей: 0.987543\n",
            "Сумма вероятностей: 1.0\n"
          ]
        }
      ]
    },
    {
      "cell_type": "markdown",
      "source": [
        "Теперь вычислим статистику с использованием формулы:\n",
        "$$\\rho(x)=\\sum_{k=1}^{n}\\frac{(n_k-np_k)^2}{np_k}$$\n",
        "где:\n",
        "\n",
        "$n_k-$ количество элементиов выборки, попавших в $k$-й интервал,\n",
        "\n",
        "$n-$ общий объем выборки,\n",
        "\n",
        "$p_k-$ вероятность попадания случайной величины в $k$-й интервал, вычисляемая через теоретическую функцию распределения.\n"
      ],
      "metadata": {
        "id": "Wh2o4BrsrKf3"
      }
    },
    {
      "cell_type": "code",
      "source": [
        "expected = n * p_k\n",
        "rho = np.sum((n_k - expected) ** 2 / expected)\n",
        "print(f\"Значение статистики Пирсона: ρ(x) = {rho:.4f}\")"
      ],
      "metadata": {
        "colab": {
          "base_uri": "https://localhost:8080/"
        },
        "id": "emlPl96oXF1J",
        "outputId": "ddc5593f-3720-433c-a292-8982562930cf"
      },
      "execution_count": 162,
      "outputs": [
        {
          "output_type": "stream",
          "name": "stdout",
          "text": [
            "Значение статистики Пирсона: ρ(x) = 8.2488\n"
          ]
        }
      ]
    },
    {
      "cell_type": "markdown",
      "source": [
        "Степени свободы для $\\chi^2$ распределения вычисляются по формуле:\n",
        "$$df=k-1$$"
      ],
      "metadata": {
        "id": "MqG2rRMgXFuU"
      }
    },
    {
      "cell_type": "markdown",
      "source": [
        "Для уровня значимости $\\varepsilon=0.05$ найдем критическое значение $C$ для распределения $\\chi^2$ с 9 степенями свободы (по таблице https://www.matematicus.ru/teoriya-veroyatnosti/tablitsy/tablitsa-pirsona).\n",
        "$$C\\approx 16.9$$\n",
        "(или `chi2.ppf` из `scipy.stats`)"
      ],
      "metadata": {
        "id": "eULLAiuRQYdo"
      }
    },
    {
      "cell_type": "code",
      "source": [
        "chi_critical = st.chi2.ppf(1 - epsilon, df=k - 1)\n",
        "print(f\"Критическое значение (квантиль) χ² = {chi_critical:.4f}\")"
      ],
      "metadata": {
        "colab": {
          "base_uri": "https://localhost:8080/"
        },
        "id": "5S65mto1uqH4",
        "outputId": "7062b61a-35c4-496a-9c9b-51ace7458f51"
      },
      "execution_count": 163,
      "outputs": [
        {
          "output_type": "stream",
          "name": "stdout",
          "text": [
            "Критическое значение (квантиль) χ² = 16.9190\n"
          ]
        }
      ]
    },
    {
      "cell_type": "markdown",
      "source": [
        "Если $\\rho(x)<C$, то принимаем гипотезу $H_1$, т.е. данные соответствуют экспоненциальному распределению с параметром $\\lambda=2.45$.\n",
        "\n",
        "Если $\\rho(x)>C$, то отвергаем гипотезу $H_1$ и принимаем $H_2$, т.е. данные НЕ соответствуют экспоненциальному распределению с параметром $\\lambda=2.45$."
      ],
      "metadata": {
        "id": "RJwPy1LqXF6e"
      }
    },
    {
      "cell_type": "code",
      "source": [
        "if rho < chi_critical:\n",
        "    print(\"Гипотеза принимается: распределение соответствует экспоненциальному с λ = 2.45.\")\n",
        "else:\n",
        "    print(\"Гипотеза отвергается: распределение не соответствует экспоненциальному с λ = 2.45.\")"
      ],
      "metadata": {
        "colab": {
          "base_uri": "https://localhost:8080/"
        },
        "id": "ikpn4fnTbQzq",
        "outputId": "163a0ea5-fee6-4986-db08-0d774db90edb"
      },
      "execution_count": 164,
      "outputs": [
        {
          "output_type": "stream",
          "name": "stdout",
          "text": [
            "Гипотеза принимается: распределение соответствует экспоненциальному с λ = 2.45.\n"
          ]
        }
      ]
    },
    {
      "cell_type": "code",
      "source": [
        "# Строим гистограмму наблюдаемых частот\n",
        "plt.figure(figsize=(10, 6))\n",
        "plt.hist(x, bins=intervals, alpha=0.7, label='Наблюдаемое', density=True)\n",
        "\n",
        "# Строим теоретическую экспоненциальную плотность\n",
        "x_vals = np.linspace(0, intervals[-1], 500)\n",
        "pdf_vals = lambda_ * np.exp(-lambda_ * x_vals)  # плотность PDF\n",
        "\n",
        "plt.plot(x_vals, pdf_vals, 'r-', label='Ожидаемое (PDF)')\n",
        "\n",
        "plt.xlabel('Значения')\n",
        "plt.ylabel('Плотность')\n",
        "plt.title('Гистограмма и плотность экспоненциального распределения')\n",
        "plt.legend()\n",
        "plt.grid(True)\n",
        "plt.show()"
      ],
      "metadata": {
        "colab": {
          "base_uri": "https://localhost:8080/",
          "height": 564
        },
        "id": "Wal0e6NqIQgM",
        "outputId": "f8c6ef31-5754-400d-8d8b-931b60f862ba"
      },
      "execution_count": 165,
      "outputs": [
        {
          "output_type": "display_data",
          "data": {
            "text/plain": [
              "<Figure size 1000x600 with 1 Axes>"
            ],
            "image/png": "[encoded data removed]"
          },
          "metadata": {}
        }
      ]
    },
    {
      "cell_type": "markdown",
      "source": [
        "#**Заключение**#\n",
        "\n",
        "В ходе выполнения лабораторной работы выяснилось, что на уровне значимости ε = 0.05 по критерию Пирсона гипотеза о соответствии выборки экспоненциальному распределению с параметром λ = 2.45 не отвергается. Распределение данных согласуется с теоретической моделью."
      ],
      "metadata": {
        "id": "E0yJfhzatGun"
      }
    }
  ]
}