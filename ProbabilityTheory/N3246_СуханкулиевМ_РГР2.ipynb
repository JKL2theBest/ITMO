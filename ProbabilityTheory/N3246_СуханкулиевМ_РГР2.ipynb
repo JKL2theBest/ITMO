{
  "nbformat": 4,
  "nbformat_minor": 0,
  "metadata": {
    "colab": {
      "provenance": []
    },
    "kernelspec": {
      "name": "python3",
      "display_name": "Python 3"
    },
    "language_info": {
      "name": "python"
    }
  },
  "cells": [
    {
      "cell_type": "markdown",
      "source": [
        "**РАСЧЕТНО ГРАФИЧЕСКАЯ РАБОТА №2**\n",
        "\n",
        "Вариант 18\n",
        "\n",
        "Выполнил:\n",
        "\n",
        "Суханкулиев Мухаммет,\n",
        "студент группы N3246"
      ],
      "metadata": {
        "id": "C-XXsq-rcl6H"
      }
    },
    {
      "cell_type": "code",
      "source": [
        "import numpy as np\n",
        "import pandas as pd"
      ],
      "metadata": {
        "id": "EN8dhPdeb3cL"
      },
      "execution_count": 290,
      "outputs": []
    },
    {
      "cell_type": "markdown",
      "source": [
        "Значения X и Y\n",
        "\n",
        "Исходная таблица вероятностей с NULL-значением\n"
      ],
      "metadata": {
        "id": "e5Cvvlo1bzLI"
      }
    },
    {
      "cell_type": "code",
      "source": [
        "X_values = np.array([-9, -4, 6, 20, 26])\n",
        "Y_values = np.array([-6, 3, 7, 10])\n",
        "\n",
        "probs = np.array([\n",
        "    [0.09, 0.09, 0.08, 0.01],\n",
        "    [0.09, 0.05, 0.08, 0.02],\n",
        "    [0.08, 0.08, 0.07, 0.06],\n",
        "    [0.01, 0.01, 0.05, 0.02],\n",
        "    [0.01, np.nan, 0.01, 0.09]\n",
        "])"
      ],
      "metadata": {
        "id": "dvwAYSbzch4A"
      },
      "execution_count": 291,
      "outputs": []
    },
    {
      "cell_type": "markdown",
      "source": [
        "Проверим условие:\n",
        "$$\\sum_{i} \\sum_{j} P_{i,j} = 1$$"
      ],
      "metadata": {
        "id": "NoVuwoxpd_d6"
      }
    },
    {
      "cell_type": "code",
      "source": [
        "sum = np.nansum(probs)\n",
        "sum"
      ],
      "metadata": {
        "colab": {
          "base_uri": "https://localhost:8080/"
        },
        "id": "I4Ifv5UPd_ld",
        "outputId": "09dd85b3-4e42-4fc3-bba4-026f8d8ddab4"
      },
      "execution_count": 292,
      "outputs": [
        {
          "output_type": "execute_result",
          "data": {
            "text/plain": [
              "1.0000000000000002"
            ]
          },
          "metadata": {},
          "execution_count": 292
        }
      ]
    },
    {
      "cell_type": "markdown",
      "source": [
        "Значит пропущенное значение NULL равно 0. Для корректного последующего выполнения кода определим это:"
      ],
      "metadata": {
        "id": "w5QBz04Pm-Rf"
      }
    },
    {
      "cell_type": "code",
      "source": [
        "missing_value = 1-np.nansum(probs)\n",
        "probs[4][1] = round(float(missing_value), 4)\n",
        "probs"
      ],
      "metadata": {
        "colab": {
          "base_uri": "https://localhost:8080/"
        },
        "id": "MhPSnIPSnGFT",
        "outputId": "f73a9f7a-1a86-4901-c4fb-5da8e9bc51a7"
      },
      "execution_count": 293,
      "outputs": [
        {
          "output_type": "execute_result",
          "data": {
            "text/plain": [
              "array([[ 0.09,  0.09,  0.08,  0.01],\n",
              "       [ 0.09,  0.05,  0.08,  0.02],\n",
              "       [ 0.08,  0.08,  0.07,  0.06],\n",
              "       [ 0.01,  0.01,  0.05,  0.02],\n",
              "       [ 0.01, -0.  ,  0.01,  0.09]])"
            ]
          },
          "metadata": {},
          "execution_count": 293
        }
      ]
    },
    {
      "cell_type": "markdown",
      "source": [
        "Вычислим маргинальные значения для X и Y:\n",
        "$$P(X = x_i) = \\sum_{j} P_{i,j}$$\n",
        "$$P(Y = y_j) = \\sum_{i} P_{i,j}$$"
      ],
      "metadata": {
        "id": "TD0yv0Lih3YA"
      }
    },
    {
      "cell_type": "code",
      "source": [
        "marginal_X = probs.sum(axis=1)\n",
        "marginal_X"
      ],
      "metadata": {
        "colab": {
          "base_uri": "https://localhost:8080/"
        },
        "id": "eoQbo_JRh0xF",
        "outputId": "c0816b1c-5098-4497-ed69-448f30542076"
      },
      "execution_count": 294,
      "outputs": [
        {
          "output_type": "execute_result",
          "data": {
            "text/plain": [
              "array([0.27, 0.24, 0.29, 0.09, 0.11])"
            ]
          },
          "metadata": {},
          "execution_count": 294
        }
      ]
    },
    {
      "cell_type": "code",
      "source": [
        "marginal_Y = probs.sum(axis=0)\n",
        "marginal_Y"
      ],
      "metadata": {
        "colab": {
          "base_uri": "https://localhost:8080/"
        },
        "id": "VbxVn8cWjPEU",
        "outputId": "baee134d-1921-4ec1-ad91-c79bdebfea06"
      },
      "execution_count": 295,
      "outputs": [
        {
          "output_type": "execute_result",
          "data": {
            "text/plain": [
              "array([0.28, 0.23, 0.29, 0.2 ])"
            ]
          },
          "metadata": {},
          "execution_count": 295
        }
      ]
    },
    {
      "cell_type": "markdown",
      "source": [
        "Математические ожидание $\\mathbb{E}[X]$ и $\\mathbb{E}[Y]$:\n",
        "$$\\mathbb{E}[X] = \\sum_{i} x_i \\cdot P(X = x_i)$$\n",
        "$$\\mathbb{E}[Y] = \\sum_{j} y_j \\cdot P(Y = y_j)$$\n",
        "Дисперсии $\\operatorname{D}(X)$ и $\\operatorname{D}(Y)$:\n",
        "$$\\operatorname{D}(X) = \\sum_{i} (x_i - \\mathbb{E}[X])^2 \\cdot P(X = x_i)$$\n",
        "$$\\operatorname{D}(Y) = \\sum_{j} (y_j - \\mathbb{E}[Y])^2 \\cdot P(Y = y_j)$$\n",
        "Среднеквадратичные отклонения \\( X \\) и \\( Y \\):\n",
        "$$\\sigma_X = \\sqrt{\\operatorname{D}(X)}$$\n",
        "$$\\sigma_Y = \\sqrt{\\operatorname{D}(Y)}$$"
      ],
      "metadata": {
        "id": "053l4v6UjgQi"
      }
    },
    {
      "cell_type": "code",
      "source": [
        "E_X = np.sum(X_values * marginal_X)\n",
        "E_X"
      ],
      "metadata": {
        "colab": {
          "base_uri": "https://localhost:8080/"
        },
        "id": "r_E8cAp6kS-E",
        "outputId": "3d5732ed-27b8-4f21-d95d-a2b177d56914"
      },
      "execution_count": 296,
      "outputs": [
        {
          "output_type": "execute_result",
          "data": {
            "text/plain": [
              "3.0100000000000002"
            ]
          },
          "metadata": {},
          "execution_count": 296
        }
      ]
    },
    {
      "cell_type": "code",
      "source": [
        "E_Y = np.sum(Y_values * marginal_Y)\n",
        "E_Y"
      ],
      "metadata": {
        "colab": {
          "base_uri": "https://localhost:8080/"
        },
        "id": "5_MrEe9fkilN",
        "outputId": "4846c2f0-1457-47ca-f9b9-9fd30a390dba"
      },
      "execution_count": 297,
      "outputs": [
        {
          "output_type": "execute_result",
          "data": {
            "text/plain": [
              "3.04"
            ]
          },
          "metadata": {},
          "execution_count": 297
        }
      ]
    },
    {
      "cell_type": "code",
      "source": [
        "D_X = np.sum((X_values - E_X)**2 * marginal_X)\n",
        "D_X"
      ],
      "metadata": {
        "colab": {
          "base_uri": "https://localhost:8080/"
        },
        "id": "8NDfIDrLk3QP",
        "outputId": "4133f760-d4bb-4d28-f30e-d8e7c63f4e52"
      },
      "execution_count": 298,
      "outputs": [
        {
          "output_type": "execute_result",
          "data": {
            "text/plain": [
              "137.44989999999999"
            ]
          },
          "metadata": {},
          "execution_count": 298
        }
      ]
    },
    {
      "cell_type": "code",
      "source": [
        "D_Y = np.sum((Y_values - E_Y)**2 * marginal_Y)\n",
        "D_Y"
      ],
      "metadata": {
        "colab": {
          "base_uri": "https://localhost:8080/"
        },
        "id": "05vFfKWOk4cM",
        "outputId": "4dad0482-5aa4-40ff-f527-6c58220d633c"
      },
      "execution_count": 299,
      "outputs": [
        {
          "output_type": "execute_result",
          "data": {
            "text/plain": [
              "37.1184"
            ]
          },
          "metadata": {},
          "execution_count": 299
        }
      ]
    },
    {
      "cell_type": "code",
      "source": [
        "sigma_X = np.sqrt(D_X)\n",
        "sigma_X"
      ],
      "metadata": {
        "colab": {
          "base_uri": "https://localhost:8080/"
        },
        "id": "S0JYWFTKk5YY",
        "outputId": "769db02e-e012-4b33-ee8f-3a1bad992b99"
      },
      "execution_count": 300,
      "outputs": [
        {
          "output_type": "execute_result",
          "data": {
            "text/plain": [
              "11.723902933750347"
            ]
          },
          "metadata": {},
          "execution_count": 300
        }
      ]
    },
    {
      "cell_type": "code",
      "source": [
        "sigma_Y = np.sqrt(D_Y)\n",
        "sigma_Y"
      ],
      "metadata": {
        "colab": {
          "base_uri": "https://localhost:8080/"
        },
        "id": "uHg8S3_8k6LP",
        "outputId": "d71958a8-ab70-47e8-cec7-6a59601891ae"
      },
      "execution_count": 301,
      "outputs": [
        {
          "output_type": "execute_result",
          "data": {
            "text/plain": [
              "6.092487176843297"
            ]
          },
          "metadata": {},
          "execution_count": 301
        }
      ]
    },
    {
      "cell_type": "markdown",
      "source": [
        "Ковариация $\\operatorname{Cov}(X, Y)$ определяется как:\n",
        "$$\\operatorname{Cov}(X, Y) = \\sum_{i} \\sum_{j} (x_i - \\mathbb{E}[X])(y_j - \\mathbb{E}[Y]) \\cdot P_{i,j}$$\n",
        "Коэффициент корреляции $\\rho(X, Y)$:\n",
        "$$\\rho(X, Y) = \\frac{\\operatorname{Cov}(X, Y)}{\\sigma_X \\cdot \\sigma_Y}$$"
      ],
      "metadata": {
        "id": "JJeU6gIYo9Iv"
      }
    },
    {
      "cell_type": "code",
      "source": [
        "covariance = np.sum((X_values[:, None] - E_X) * (Y_values - E_Y) * probs)\n",
        "covariance"
      ],
      "metadata": {
        "colab": {
          "base_uri": "https://localhost:8080/"
        },
        "id": "wswGfSV7pXeQ",
        "outputId": "e8dcf73a-51b7-4da7-e180-bbf28e8c5d70"
      },
      "execution_count": 302,
      "outputs": [
        {
          "output_type": "execute_result",
          "data": {
            "text/plain": [
              "25.019599999999997"
            ]
          },
          "metadata": {},
          "execution_count": 302
        }
      ]
    },
    {
      "cell_type": "code",
      "source": [
        "correlation = covariance / (sigma_X * sigma_Y)\n",
        "correlation"
      ],
      "metadata": {
        "colab": {
          "base_uri": "https://localhost:8080/"
        },
        "id": "Gn4P80aXpvc1",
        "outputId": "f7cf611c-faf7-41da-feb8-d66c57de6eb0"
      },
      "execution_count": 303,
      "outputs": [
        {
          "output_type": "execute_result",
          "data": {
            "text/plain": [
              "0.350278534684316"
            ]
          },
          "metadata": {},
          "execution_count": 303
        }
      ]
    },
    {
      "cell_type": "markdown",
      "source": [
        "Случайные величины \\( X \\) и \\( Y \\) независимы, если:\n",
        "$$P(X = x_i, Y = y_j) = P(X = x_i) \\cdot P(Y = y_j) \\quad \\forall \\, i, j$$"
      ],
      "metadata": {
        "id": "9zzcmOP1qAtQ"
      }
    },
    {
      "cell_type": "code",
      "source": [
        "independence_check = np.allclose(probs, np.outer(marginal_X, marginal_Y))\n",
        "independence_check"
      ],
      "metadata": {
        "colab": {
          "base_uri": "https://localhost:8080/"
        },
        "id": "GyUGGC3ZqIQY",
        "outputId": "d40377cf-629e-4de2-cb29-c8426c2bd29d"
      },
      "execution_count": 304,
      "outputs": [
        {
          "output_type": "execute_result",
          "data": {
            "text/plain": [
              "False"
            ]
          },
          "metadata": {},
          "execution_count": 304
        }
      ]
    },
    {
      "cell_type": "markdown",
      "source": [
        "Это значит, что X и Y не независимые"
      ],
      "metadata": {
        "id": "r4sNfRYkrxnV"
      }
    },
    {
      "cell_type": "markdown",
      "source": [
        "Условные вероятности:\n",
        "$$P(X = x_i \\mid Y = y_j) = \\frac{P(X = x_i, Y = y_j)}{P(Y = y_j)}, \\quad \\text{если } P(Y = y_j) > 0$$\n",
        "$$P(Y = y_j \\mid X = x_i) = \\frac{P(X = x_i, Y = y_j)}{P(X = x_i)}, \\quad \\text{если } P(X = x_i) > 0$$"
      ],
      "metadata": {
        "id": "dsQO_gi5sdCx"
      }
    },
    {
      "cell_type": "code",
      "source": [
        "conditional_X_given_Y = probs / marginal_Y\n",
        "conditional_X_given_Y"
      ],
      "metadata": {
        "colab": {
          "base_uri": "https://localhost:8080/"
        },
        "id": "9j_bFpd-sqyS",
        "outputId": "6338d6d8-30e3-4925-dcac-712bc21f0c2f"
      },
      "execution_count": 305,
      "outputs": [
        {
          "output_type": "execute_result",
          "data": {
            "text/plain": [
              "array([[ 0.32142857,  0.39130435,  0.27586207,  0.05      ],\n",
              "       [ 0.32142857,  0.2173913 ,  0.27586207,  0.1       ],\n",
              "       [ 0.28571429,  0.34782609,  0.24137931,  0.3       ],\n",
              "       [ 0.03571429,  0.04347826,  0.17241379,  0.1       ],\n",
              "       [ 0.03571429, -0.        ,  0.03448276,  0.45      ]])"
            ]
          },
          "metadata": {},
          "execution_count": 305
        }
      ]
    },
    {
      "cell_type": "code",
      "source": [
        "conditional_Y_given_X = probs.T / marginal_X\n",
        "conditional_Y_given_X"
      ],
      "metadata": {
        "colab": {
          "base_uri": "https://localhost:8080/"
        },
        "id": "EBSI9J2Ws2Sy",
        "outputId": "d18ee9ae-634a-4be7-bcb8-2d79eb9d1563"
      },
      "execution_count": 306,
      "outputs": [
        {
          "output_type": "execute_result",
          "data": {
            "text/plain": [
              "array([[ 0.33333333,  0.375     ,  0.27586207,  0.11111111,  0.09090909],\n",
              "       [ 0.33333333,  0.20833333,  0.27586207,  0.11111111, -0.        ],\n",
              "       [ 0.2962963 ,  0.33333333,  0.24137931,  0.55555556,  0.09090909],\n",
              "       [ 0.03703704,  0.08333333,  0.20689655,  0.22222222,  0.81818182]])"
            ]
          },
          "metadata": {},
          "execution_count": 306
        }
      ]
    },
    {
      "cell_type": "markdown",
      "source": [
        "Условное математическое ожидание \\( X \\) при условии \\( Y = y_j \\):\n",
        "$$\\mathbb{E}[X \\mid Y = y_j] = \\sum_{i} x_i \\cdot P(X = x_i \\mid Y = y_j)$$\n",
        "\n",
        "Условное математическое ожидание \\( Y \\) при условии \\( X = x_i \\):\n",
        "$$\\mathbb{E}[Y \\mid X = x_i] = \\sum_{j} y_j \\cdot P(Y = y_j \\mid X = x_i)$$"
      ],
      "metadata": {
        "id": "H1CYsYHYt397"
      }
    },
    {
      "cell_type": "code",
      "source": [
        "conditional_E_X_given_Y = np.sum(X_values[:, None] * conditional_X_given_Y, axis=0)\n",
        "conditional_E_X_given_Y"
      ],
      "metadata": {
        "colab": {
          "base_uri": "https://localhost:8080/"
        },
        "id": "8umnT52Ht9Jw",
        "outputId": "59494109-80d8-46a1-ed91-76e232cdc28c"
      },
      "execution_count": 307,
      "outputs": [
        {
          "output_type": "execute_result",
          "data": {
            "text/plain": [
              "array([-0.82142857, -1.43478261,  2.20689655, 14.65      ])"
            ]
          },
          "metadata": {},
          "execution_count": 307
        }
      ]
    },
    {
      "cell_type": "code",
      "source": [
        "conditional_E_Y_given_X = np.sum(Y_values[:, None] * conditional_Y_given_X, axis=0)\n",
        "conditional_E_Y_given_X"
      ],
      "metadata": {
        "colab": {
          "base_uri": "https://localhost:8080/"
        },
        "id": "YGi98Y3MuH7O",
        "outputId": "7d72da4f-c761-492a-df60-ba1056afdb75"
      },
      "execution_count": 308,
      "outputs": [
        {
          "output_type": "execute_result",
          "data": {
            "text/plain": [
              "array([1.44444444, 1.54166667, 2.93103448, 5.77777778, 8.27272727])"
            ]
          },
          "metadata": {},
          "execution_count": 308
        }
      ]
    },
    {
      "cell_type": "code",
      "source": [
        "# Вывод результатов\n",
        "print(f\"1. Пропущенное значение вероятности: {missing_value:.1f}\")\n",
        "print(f\"2. Маргинальные распределения X: {marginal_X}\")\n",
        "print(f\"   Маргинальные распределения Y: {marginal_Y}\")\n",
        "print(f\"3. Математическое ожидание X: {E_X:.2f}, Y: {E_Y:.2f}\")\n",
        "print(f\"   Дисперсия X: {D_X:.4f}, Y: {D_Y:.4f}\")\n",
        "print(f\"   Среднеквадратичное отклонение X: {sigma_X:.4f}, Y: {sigma_Y:.4f}\")\n",
        "print(f\"4. Ковариация: {covariance:.4f}\")\n",
        "print(f\"   Коэффициент корреляции: {correlation:.4f}\")\n",
        "print(f\"5. Независимость X и Y: {'Независимы' if independence_check else 'Зависимы'}\")\n",
        "print(f\"6. Условные распределения X|Y=y_j: \\n {np.round(conditional_X_given_Y, 4)}\")\n",
        "print(f\"   Условные распределения Y|X=x_i: \\n {np.round(conditional_Y_given_X, 4)}\")\n",
        "print(f\"7. Условные математические ожидания X|Y=y_j: {np.round(conditional_E_X_given_Y, 4)}\")\n",
        "print(f\"   Условные математические ожидания Y|X=x_i: {np.round(conditional_E_Y_given_X, 4)}\")"
      ],
      "metadata": {
        "colab": {
          "base_uri": "https://localhost:8080/"
        },
        "id": "Qdmi3KeHuXhP",
        "outputId": "3d835f8e-a1fd-4f15-9d7a-e6be58833f61"
      },
      "execution_count": 309,
      "outputs": [
        {
          "output_type": "stream",
          "name": "stdout",
          "text": [
            "1. Пропущенное значение вероятности: -0.0\n",
            "2. Маргинальные распределения X: [0.27 0.24 0.29 0.09 0.11]\n",
            "   Маргинальные распределения Y: [0.28 0.23 0.29 0.2 ]\n",
            "3. Математическое ожидание X: 3.01, Y: 3.04\n",
            "   Дисперсия X: 137.4499, Y: 37.1184\n",
            "   Среднеквадратичное отклонение X: 11.7239, Y: 6.0925\n",
            "4. Ковариация: 25.0196\n",
            "   Коэффициент корреляции: 0.3503\n",
            "5. Независимость X и Y: Зависимы\n",
            "6. Условные распределения X|Y=y_j: \n",
            " [[ 0.3214  0.3913  0.2759  0.05  ]\n",
            " [ 0.3214  0.2174  0.2759  0.1   ]\n",
            " [ 0.2857  0.3478  0.2414  0.3   ]\n",
            " [ 0.0357  0.0435  0.1724  0.1   ]\n",
            " [ 0.0357 -0.      0.0345  0.45  ]]\n",
            "   Условные распределения Y|X=x_i: \n",
            " [[ 0.3333  0.375   0.2759  0.1111  0.0909]\n",
            " [ 0.3333  0.2083  0.2759  0.1111 -0.    ]\n",
            " [ 0.2963  0.3333  0.2414  0.5556  0.0909]\n",
            " [ 0.037   0.0833  0.2069  0.2222  0.8182]]\n",
            "7. Условные математические ожидания X|Y=y_j: [-0.8214 -1.4348  2.2069 14.65  ]\n",
            "   Условные математические ожидания Y|X=x_i: [1.4444 1.5417 2.931  5.7778 8.2727]\n"
          ]
        }
      ]
    },
    {
      "cell_type": "markdown",
      "source": [
        "**Ответы**\n",
        "1. Пропущенное значение вероятности: $P_{2,5} = 0$\n",
        "\n",
        "2. Маргинальные распределения:\n",
        "$$P(X = x_1) = 0.27, \\quad P(X = x_2) = 0.24, \\quad P(X = x_3) = 0.29, \\quad P(X = x_4) = 0.09, \\quad P(X = x_5) = 0.11$$\n",
        "$$P(Y = y_1) = 0.28, \\quad P(Y = y_2) = 0.23, \\quad P(Y = y_3) = 0.29, \\quad P(Y = y_4) = 0.2$$\n",
        "\n",
        "3. Математическое ожидание:\n",
        "$$E[X] = 3.01 \\quad E[Y] = 3.04$$\n",
        "Дисперсия:\n",
        "$$D[X] = 137.4499 \\quad D[Y] = 37.1184$$\n",
        "Среднеквадратичное отклонение:\n",
        "$$\\sigma_X = 11.7239 \\quad \\sigma_Y = 6.0925$$\n",
        "\n",
        "4. Ковариация:\n",
        "$$\\operatorname{Cov}(X, Y) = 25.0196$$\n",
        "Коэффициент корреляции:\n",
        "$$\\rho(X, Y) = 0.3503$$\n",
        "\n",
        "5. Независимость случайных величин \\( X \\) и \\( Y \\):\n",
        "$$\\text{X и Y} \\quad \\text{Зависимы}$$\n",
        "\n",
        "6. Условные распределения:\n",
        "$$P(X = x_i \\mid Y = y_j) =\n",
        "\\begin{bmatrix}\n",
        "0.3214 & 0.3913 & 0.2759 & 0.05  \\\\\n",
        "0.3214 & 0.2174 & 0.2759 & 0.1  \\\\\n",
        "0.2857 & 0.3478 & 0.2414 & 0.3  \\\\\n",
        "0.0357 & 0.0435 & 0.1724 & 0.1  \\\\\n",
        "0.0357 & 0 & 0.0345 & 0.45\n",
        "\\end{bmatrix}$$\n",
        "$$P(Y = y_j \\mid X = x_i) =\n",
        "\\begin{bmatrix}\n",
        "0.3333 & 0.375 & 0.2759 & 0.1111 & 0.0909 \\\\\n",
        "0.3333 & 0.2083 & 0.2759 & 0.1111 & 0 \\\\\n",
        "0.2963 & 0.3333 & 0.2414 & 0.5556 & 0.0909 \\\\\n",
        "0.037 & 0.0833 & 0.2069 & 0.2222 & 0.8182 \\\\\n",
        "\\end{bmatrix}$$\n",
        "7. Условные математические ожидания:\n",
        "$$E[X \\mid Y = y_1] = -0.8214, \\quad E[X \\mid Y = y_2] = -1.4348, \\quad E[X \\mid Y = y_3] = 2.2069, \\quad E[X \\mid Y = y_4] = 14.65$$\n",
        "$$E[Y \\mid X = x_1] = 1.4444, \\quad E[Y \\mid X = x_2] = 1.5417, \\quad E[Y \\mid X = x_3] = 2.931, \\quad E[Y \\mid X = x_4] = 5.7778, \\quad E[Y \\mid X = x_5] = 8.2727$$"
      ],
      "metadata": {
        "id": "_vwY6bpJ70YZ"
      }
    }
  ]
}